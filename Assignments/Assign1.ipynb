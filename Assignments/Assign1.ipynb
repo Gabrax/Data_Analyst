{
 "cells": [
  {
   "cell_type": "code",
   "execution_count": 43,
   "metadata": {},
   "outputs": [],
   "source": [
    "# cmath.exp służy do obliczania wykładniczej funkcji zespolonej.\n",
    "# cmath.phase służy do obliczania kąta fazowego (argumentu) liczby zespolonej."
   ]
  },
  {
   "cell_type": "code",
   "execution_count": 44,
   "metadata": {},
   "outputs": [
    {
     "name": "stdout",
     "output_type": "stream",
     "text": [
      "Moduł: 1.0\n",
      "Kąt fazowy (w radianach): 3.141592653589793\n",
      "Kąt fazowy (w stopniach): 180.0\n"
     ]
    }
   ],
   "source": [
    "import cmath\n",
    "\n",
    "# Obliczanie i^2\n",
    "result = (0 + 1j) ** 2\n",
    "# Obliczanie modułu\n",
    "modulus = abs(result)\n",
    "# Obliczanie kąta fazowego w radianach\n",
    "phase_angle= cmath.phase(result)\n",
    "# Konwertowanie kąta fazowego na stopnie\n",
    "phase_angle_degrees = phase_angle * (180 / cmath.pi)\n",
    "print(\"Moduł:\", modulus)\n",
    "print(\"Kąt fazowy (w radianach):\", phase_angle)\n",
    "print(\"Kąt fazowy (w stopniach):\", phase_angle_degrees)"
   ]
  },
  {
   "cell_type": "code",
   "execution_count": 45,
   "metadata": {},
   "outputs": [
    {
     "name": "stdout",
     "output_type": "stream",
     "text": [
      "Moduł: 1.0\n",
      "Kąt fazowy (w radianach): -1.5707963267948966\n",
      "Kąt fazowy (w stopniach): -90.0\n"
     ]
    }
   ],
   "source": [
    "import cmath\n",
    "\n",
    "# Obliczanie i^3\n",
    "result = (0 + 1j) ** 3\n",
    "# Obliczanie modułu\n",
    "modulus = abs(result)\n",
    "# Obliczanie kąta fazowego w radianach\n",
    "phase_angle= cmath.phase(result)\n",
    "# Konwertowanie kąta fazowego na stopnie\n",
    "phase_angle_degrees = phase_angle * (180 / cmath.pi)\n",
    "print(\"Moduł:\", modulus)\n",
    "print(\"Kąt fazowy (w radianach):\", phase_angle)\n",
    "print(\"Kąt fazowy (w stopniach):\", phase_angle_degrees)"
   ]
  },
  {
   "cell_type": "code",
   "execution_count": 46,
   "metadata": {},
   "outputs": [
    {
     "name": "stdout",
     "output_type": "stream",
     "text": [
      "Moduł: 1.0\n",
      "Kąt fazowy (w radianach): 0.0\n",
      "Kąt fazowy (w stopniach): 0.0\n"
     ]
    }
   ],
   "source": [
    "import cmath\n",
    "\n",
    "# Obliczanie i^4\n",
    "result = (0 + 1j) ** 4\n",
    "# Obliczanie modułu\n",
    "modulus = abs(result)\n",
    "# Obliczanie kąta fazowego w radianach\n",
    "phase_angle= cmath.phase(result)\n",
    "# Konwertowanie kąta fazowego na stopnie\n",
    "phase_angle_degrees = phase_angle * (180 / cmath.pi)\n",
    "print(\"Moduł:\", modulus)\n",
    "print(\"Kąt fazowy (w radianach):\", phase_angle)\n",
    "print(\"Kąt fazowy (w stopniach):\", phase_angle_degrees)"
   ]
  },
  {
   "cell_type": "code",
   "execution_count": 47,
   "metadata": {},
   "outputs": [
    {
     "name": "stdout",
     "output_type": "stream",
     "text": [
      "Moduł: 1.0\n",
      "Kąt fazowy (w radianach): -1.5707963267948966\n",
      "Kąt fazowy (w stopniach): -90.0\n"
     ]
    }
   ],
   "source": [
    "import cmath\n",
    "\n",
    "# Obliczanie 1/i\n",
    "result = 1 / (0 + 1j)\n",
    "# Obliczanie modułu\n",
    "modulus = abs(result)\n",
    "# Obliczanie kąta fazowego w radianach\n",
    "phase_angle= cmath.phase(result)\n",
    "# Konwertowanie kąta fazowego na stopnie\n",
    "phase_angle_degrees = phase_angle * (180 / cmath.pi)\n",
    "print(\"Moduł:\", modulus)\n",
    "print(\"Kąt fazowy (w radianach):\", phase_angle)\n",
    "print(\"Kąt fazowy (w stopniach):\", phase_angle_degrees)"
   ]
  },
  {
   "cell_type": "code",
   "execution_count": 48,
   "metadata": {},
   "outputs": [
    {
     "name": "stdout",
     "output_type": "stream",
     "text": [
      "Moduł: 5.0\n",
      "Kąt fazowy (w radianach): 0.6435011087932844\n",
      "Kąt fazowy (w stopniach): 36.86989764584402\n"
     ]
    }
   ],
   "source": [
    "import cmath\n",
    "\n",
    "# Obliczanie (1 + 2i)(2 - i)\n",
    "result = (1 + 2j) * (2 - 1j)\n",
    "# Obliczanie modułu\n",
    "modulus = abs(result)\n",
    "# Obliczanie kąta fazowego w radianach\n",
    "phase_angle= cmath.phase(result)\n",
    "# Konwertowanie kąta fazowego na stopnie\n",
    "phase_angle_degrees = phase_angle * (180 / cmath.pi)\n",
    "print(\"Moduł:\", modulus)\n",
    "print(\"Kąt fazowy (w radianach):\", phase_angle)\n",
    "print(\"Kąt fazowy (w stopniach):\", phase_angle_degrees)"
   ]
  },
  {
   "cell_type": "code",
   "execution_count": 49,
   "metadata": {},
   "outputs": [
    {
     "name": "stdout",
     "output_type": "stream",
     "text": [
      "Moduł: 10.0\n",
      "Kąt fazowy (w radianach): 3.141592653589793\n",
      "Kąt fazowy (w stopniach): 180.0\n"
     ]
    }
   ],
   "source": [
    "import cmath\n",
    "\n",
    "# Obliczanie (1 + i)(1 + 2i)(1 + 3i)\n",
    "result = (1 + 1j) * (1 + 2j) * (1 + 3j)\n",
    "# Obliczanie modułu\n",
    "modulus = abs(result)\n",
    "# Obliczanie kąta fazowego w radianach\n",
    "phase_angle= cmath.phase(result)\n",
    "# Konwertowanie kąta fazowego na stopnie\n",
    "phase_angle_degrees = phase_angle * (180 / cmath.pi)\n",
    "print(\"Moduł:\", modulus)\n",
    "print(\"Kąt fazowy (w radianach):\", phase_angle)\n",
    "print(\"Kąt fazowy (w stopniach):\", phase_angle_degrees)"
   ]
  },
  {
   "cell_type": "code",
   "execution_count": 50,
   "metadata": {},
   "outputs": [
    {
     "name": "stdout",
     "output_type": "stream",
     "text": [
      "Moduł: 1.0000000000000002\n",
      "Kąt fazowy (w radianach): 1.5707963267948966\n",
      "Kąt fazowy (w stopniach): 90.0\n"
     ]
    }
   ],
   "source": [
    "import cmath\n",
    "\n",
    "# Obliczanie (((1/2)*sqrt(2)) + ((i/2)*sqrt(2)))^2\n",
    "result = (((1/2)*cmath.sqrt(2)) + ((1j/2)*cmath.sqrt(2))) ** 2\n",
    "# Obliczanie modułu\n",
    "modulus = abs(result)\n",
    "# Obliczanie kąta fazowego w radianach\n",
    "phase_angle= cmath.phase(result)\n",
    "# Konwertowanie kąta fazowego na stopnie\n",
    "phase_angle_degrees = phase_angle * (180 / cmath.pi)\n",
    "print(\"Moduł:\", modulus)\n",
    "print(\"Kąt fazowy (w radianach):\", phase_angle)\n",
    "print(\"Kąt fazowy (w stopniach):\", phase_angle_degrees)"
   ]
  },
  {
   "cell_type": "code",
   "execution_count": 51,
   "metadata": {},
   "outputs": [
    {
     "name": "stdout",
     "output_type": "stream",
     "text": [
      "Moduł: 0.9999999999999998\n",
      "Kąt fazowy (w radianach): 3.141592653589793\n",
      "Kąt fazowy (w stopniach): 180.0\n"
     ]
    }
   ],
   "source": [
    "import cmath\n",
    "\n",
    "# Obliczanie (1/2 + ((i/2)*sqrt(3)))^3\n",
    "result = (1/2 + ((1j/2)*cmath.sqrt(3))) ** 3\n",
    "# Obliczanie modułu\n",
    "modulus = abs(result)\n",
    "# Obliczanie kąta fazowego w radianach\n",
    "phase_angle= cmath.phase(result)\n",
    "# Konwertowanie kąta fazowego na stopnie\n",
    "phase_angle_degrees = phase_angle * (180 / cmath.pi)\n",
    "print(\"Moduł:\", modulus)\n",
    "print(\"Kąt fazowy (w radianach):\", phase_angle)\n",
    "print(\"Kąt fazowy (w stopniach):\", phase_angle_degrees)"
   ]
  },
  {
   "cell_type": "code",
   "execution_count": 52,
   "metadata": {},
   "outputs": [
    {
     "name": "stdout",
     "output_type": "stream",
     "text": [
      "Moduł: 0.7071067811865476\n",
      "Kąt fazowy (w radianach): -0.7853981633974483\n",
      "Kąt fazowy (w stopniach): -45.0\n"
     ]
    }
   ],
   "source": [
    "import cmath\n",
    "\n",
    "# Obliczanie 1/(1 + i)\n",
    "result = 1 / (1 + 1j)\n",
    "# Obliczanie modułu\n",
    "modulus = abs(result)\n",
    "# Obliczanie kąta fazowego w radianach\n",
    "phase_angle= cmath.phase(result)\n",
    "# Konwertowanie kąta fazowego na stopnie\n",
    "phase_angle_degrees = phase_angle * (180 / cmath.pi)\n",
    "print(\"Moduł:\", modulus)\n",
    "print(\"Kąt fazowy (w radianach):\", phase_angle)\n",
    "print(\"Kąt fazowy (w stopniach):\", phase_angle_degrees)"
   ]
  },
  {
   "cell_type": "code",
   "execution_count": 53,
   "metadata": {},
   "outputs": [
    {
     "name": "stdout",
     "output_type": "stream",
     "text": [
      "Moduł: 2.23606797749979\n",
      "Kąt fazowy (w radianach): 0.4636476090008061\n",
      "Kąt fazowy (w stopniach): 26.56505117707799\n"
     ]
    }
   ],
   "source": [
    "import cmath\n",
    "\n",
    "# Obliczanie 5/(2-i)\n",
    "result = 5 / (2 - 1j)\n",
    "# Obliczanie modułu\n",
    "modulus = abs(result)\n",
    "# Obliczanie kąta fazowego w radianach\n",
    "phase_angle= cmath.phase(result)\n",
    "# Konwertowanie kąta fazowego na stopnie\n",
    "phase_angle_degrees = phase_angle * (180 / cmath.pi)\n",
    "print(\"Moduł:\", modulus)\n",
    "print(\"Kąt fazowy (w radianach):\", phase_angle)\n",
    "print(\"Kąt fazowy (w stopniach):\", phase_angle_degrees)"
   ]
  },
  {
   "cell_type": "code",
   "execution_count": 54,
   "metadata": {},
   "outputs": [
    {
     "name": "stdout",
     "output_type": "stream",
     "text": [
      "cos(4theta): (-1.0000000000000004+0j)\n",
      "sin(4theta): (-1.0000000000000004+0j)\n",
      "cos(5theta): (-0.7071067811865479-0.7071067811865479j)\n",
      "cos(6theta): (-0-1.0000000000000007j)\n"
     ]
    }
   ],
   "source": [
    "import cmath\n",
    "\n",
    "def cos_n_theta(n, cos_theta, sin_theta):\n",
    "    # Wzór de Moivre'a dla cos(n*theta)\n",
    "    return (cos_theta + 1j * sin_theta) ** n\n",
    "\n",
    "def sin_n_theta(n, cos_theta, sin_theta):\n",
    "    # Wzór de Moivre'a dla sin(n*theta)\n",
    "    return (cos_theta + 1j * sin_theta) ** n\n",
    "\n",
    "# Szacowanie wartości kąta theta\n",
    "theta = cmath.pi / 4  # Przykładowy kąt\n",
    "\n",
    "# Obliczanie cos(theta) i sin(theta)\n",
    "cos_theta = cmath.cos(theta)\n",
    "sin_theta = cmath.sin(theta)\n",
    "\n",
    "# Obliczanie cos(4*theta) i sin(4*theta)\n",
    "cos_4_theta = cos_n_theta(4, cos_theta, sin_theta)\n",
    "sin_4_theta = sin_n_theta(4, cos_theta, sin_theta)\n",
    "\n",
    "# Obliczanie cos(5*theta)\n",
    "cos_5_theta = cos_n_theta(5, cos_theta, sin_theta)\n",
    "\n",
    "# Obliczanie cos(6*theta)\n",
    "cos_6_theta = cos_n_theta(6, cos_theta, sin_theta)\n",
    "\n",
    "print(\"cos(4theta):\", cos_4_theta)\n",
    "print(\"sin(4theta):\", sin_4_theta)\n",
    "print(\"cos(5theta):\", cos_5_theta)\n",
    "print(\"cos(6theta):\", cos_6_theta)"
   ]
  },
  {
   "cell_type": "code",
   "execution_count": 55,
   "metadata": {},
   "outputs": [
    {
     "name": "stdout",
     "output_type": "stream",
     "text": [
      "(0.5000000000000001+0.8660254037844386j)\n",
      "(6.123233995736766e-17+1j)\n",
      "(-1+1.0000000000000002j)\n",
      "(0.7071067811865475-0.7071067811865475j)\n",
      "(-0.7071067811865477+0.7071067811865474j)\n",
      "(-1+3.987982301371248e-13j)\n"
     ]
    }
   ],
   "source": [
    "import cmath\n",
    "\n",
    "# Obliczanie e^((pi*i)/3)\n",
    "wynik_1 = cmath.exp(cmath.pi * 1j / 3)\n",
    "\n",
    "# Obliczanie e^((pi*i)/2)\n",
    "wynik_2 = cmath.exp(cmath.pi * 1j / 2)\n",
    "\n",
    "# Obliczanie sqrt(2) * e^((3*pi*i)/4)\n",
    "wynik_3 = cmath.sqrt(2) * cmath.exp(3 * cmath.pi * 1j / 4)\n",
    "\n",
    "# Obliczanie 1 / (e^((pi*i)/4))\n",
    "wynik_4 = 1 / cmath.exp(cmath.pi * 1j / 4)\n",
    "\n",
    "# Obliczanie (e^(-pi*i)) / (e^((pi*i)/4))\n",
    "wynik_5 = cmath.exp(-cmath.pi * 1j) / cmath.exp(cmath.pi * 1j / 4)\n",
    "\n",
    "# Obliczanie e^(2009*pi*i)\n",
    "wynik_6 = cmath.exp(2009 * cmath.pi * 1j)\n",
    "\n",
    "print(wynik_1)\n",
    "print(wynik_2)\n",
    "print(wynik_3)\n",
    "print(wynik_4)\n",
    "print(wynik_5)\n",
    "print(wynik_6)"
   ]
  },
  {
   "cell_type": "code",
   "execution_count": 56,
   "metadata": {},
   "outputs": [
    {
     "name": "stdout",
     "output_type": "stream",
     "text": [
      "cos(t) obliczone za pomocą wzoru de Moivre'a: (0.5000000000000001+0j)\n",
      "cos(t) obliczone za pomocą cmath.cos: (0.5000000000000001-0j)\n",
      "\n",
      "sin(t) obliczone za pomocą wzoru de Moivre'a: (0.8660254037844386+0j)\n",
      "sin(t) obliczone za pomocą cmath.sin: (0.8660254037844386+0j)\n"
     ]
    }
   ],
   "source": [
    "import cmath\n",
    "\n",
    "# Funkcja obliczająca cos(t) na podstawie wzoru de Moivre'a\n",
    "def cos_de_moivre(t):\n",
    "    return (cmath.exp(1j * t) + cmath.exp(-1j * t)) / 2\n",
    "\n",
    "# Funkcja obliczająca sin(t) na podstawie wzoru de Moivre'a\n",
    "def sin_de_moivre(t):\n",
    "    return (cmath.exp(1j * t) - cmath.exp(-1j * t)) / (2j)\n",
    "\n",
    "# Dla przykładowego kąta t\n",
    "t = cmath.pi / 3\n",
    "\n",
    "# Obliczanie wartości cos(t) i sin(t) za pomocą wzoru de Moivre'a\n",
    "cos_t_de_moivre = cos_de_moivre(t)\n",
    "sin_t_de_moivre = sin_de_moivre(t)\n",
    "\n",
    "# Obliczanie wartości cos(t) i sin(t) za pomocą funkcji z modułu cmath\n",
    "cos_t_cmath = cmath.cos(t)\n",
    "sin_t_cmath = cmath.sin(t)\n",
    "\n",
    "# Porównanie wartości\n",
    "print(\"cos(t) obliczone za pomocą wzoru de Moivre'a:\", cos_t_de_moivre)\n",
    "print(\"cos(t) obliczone za pomocą cmath.cos:\", cos_t_cmath)\n",
    "\n",
    "print(\"\\nsin(t) obliczone za pomocą wzoru de Moivre'a:\", sin_t_de_moivre)\n",
    "print(\"sin(t) obliczone za pomocą cmath.sin:\", sin_t_cmath)"
   ]
  },
  {
   "cell_type": "code",
   "execution_count": 57,
   "metadata": {},
   "outputs": [
    {
     "name": "stdout",
     "output_type": "stream",
     "text": [
      "A = 20.784609690826528\n",
      "Phi = 1.2819751242557092e-16\n",
      "Równość sprawdzona: True\n"
     ]
    }
   ],
   "source": [
    "import numpy as np\n",
    "\n",
    "# Wartości znane\n",
    "cos_pi_6 = np.cos(np.pi/6)\n",
    "sin_pi_6 = np.sin(np.pi/6)\n",
    "sin_pi_3 = np.sin(np.pi/3)\n",
    "cos_pi_3 = np.cos(np.pi/3)\n",
    "\n",
    "# Obliczenia dla Phi\n",
    "Phi = np.arctan2(-12 * sin_pi_6 + 12 * cos_pi_3, 12 * cos_pi_6 + 12 * sin_pi_3)\n",
    "\n",
    "# Obliczenia dla A\n",
    "A = np.sqrt((12 * cos_pi_6 + 12 * sin_pi_3)**2 + (-12 * sin_pi_6 + 12 * cos_pi_3)**2)\n",
    "\n",
    "# Sprawdzenie równości\n",
    "# np.isclose służy do porównywania dwóch tablic numerycznych (np. wartości numerycznych) z uwzględnieniem pewnego marginesu tolerancji.\n",
    "equality_check = np.isclose(A * np.cos(Phi), 12 * cos_pi_6 + 12 * sin_pi_3) and np.isclose(A * np.sin(Phi), -12 * sin_pi_6 + 12 * cos_pi_3)\n",
    "\n",
    "print(\"A =\", A)\n",
    "print(\"Phi =\", Phi)\n",
    "print(\"Równość sprawdzona:\", equality_check)"
   ]
  },
  {
   "cell_type": "code",
   "execution_count": 58,
   "metadata": {},
   "outputs": [
    {
     "name": "stdout",
     "output_type": "stream",
     "text": [
      "Pierwiastki równania z^3 + 8 = 0:\n",
      "(-2+0j)\n",
      "(0.9999999999999996+1.7320508075688765j)\n",
      "(0.9999999999999996-1.7320508075688765j)\n"
     ]
    }
   ],
   "source": [
    "import numpy as np # Umożliwia operacje na liczbach zespolonych\n",
    "\n",
    "# Współczynniki równania\n",
    "coefficients = [1, 0, 0, 8]  # Współczynniki zgodnie z kolejnością potęg\n",
    "\n",
    "#Pierwszy współczynnik odpowiada potędze trzeciej (stopień równania).\n",
    "#Drugi współczynnik jest zerowy, \n",
    "#co oznacza brak potęgi drugiej w równaniu.\n",
    "#Trzeci współczynnik również jest zerowy, \n",
    "#co oznacza brak potęgi pierwszej w równaniu.\n",
    "#Czwarty współczynnik wynosi 8, \n",
    "#co odpowiada wyrazowi wolnemu w równaniu.\n",
    "\n",
    "# Znajdź pierwiastki równania\n",
    "# np.roots służy do obliczania wszystkich pierwiastków wielomianu\n",
    "roots = np.roots(coefficients)\n",
    "\n",
    "# Pokazanie pierwiastków\n",
    "print(\"Pierwiastki równania z^3 + 8 = 0:\")\n",
    "for root in roots:\n",
    "    print(root)"
   ]
  }
 ],
 "metadata": {
  "kernelspec": {
   "display_name": "Python 3",
   "language": "python",
   "name": "python3"
  },
  "language_info": {
   "codemirror_mode": {
    "name": "ipython",
    "version": 3
   },
   "file_extension": ".py",
   "mimetype": "text/x-python",
   "name": "python",
   "nbconvert_exporter": "python",
   "pygments_lexer": "ipython3",
   "version": "3.11.8"
  }
 },
 "nbformat": 4,
 "nbformat_minor": 2
}
