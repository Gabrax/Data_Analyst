{
 "cells": [
  {
   "cell_type": "code",
   "execution_count": 3,
   "metadata": {},
   "outputs": [
    {
     "name": "stdout",
     "output_type": "stream",
     "text": [
      "Moduł: 1.0\n",
      "Kąt fazowy (w radianach): 3.141592653589793\n",
      "Kąt fazowy (w stopniach): 180.0\n"
     ]
    }
   ],
   "source": [
    "import cmath\n",
    "\n",
    "# Oblicz i^2\n",
    "result = (0 + 1j) ** 2\n",
    "\n",
    "# Oblicz moduł\n",
    "modulus = abs(result)\n",
    "\n",
    "# Oblicz kąt fazowy w radianach\n",
    "phase_angle_radians = cmath.phase(result)\n",
    "\n",
    "# Konwertuj kąt fazowy na stopnie\n",
    "phase_angle_degrees = phase_angle_radians * (180 / cmath.pi)\n",
    "\n",
    "print(\"Moduł:\", modulus)\n",
    "print(\"Kąt fazowy (w radianach):\", phase_angle_radians)\n",
    "print(\"Kąt fazowy (w stopniach):\", phase_angle_degrees)\n",
    "\n",
    "#moduł wynosi 1, kąt fazowy wynosi PI(180 stopni), co zgadza się z wartością i^2 = -1"
   ]
  }
 ],
 "metadata": {
  "kernelspec": {
   "display_name": "Python 3",
   "language": "python",
   "name": "python3"
  },
  "language_info": {
   "codemirror_mode": {
    "name": "ipython",
    "version": 3
   },
   "file_extension": ".py",
   "mimetype": "text/x-python",
   "name": "python",
   "nbconvert_exporter": "python",
   "pygments_lexer": "ipython3",
   "version": "3.11.8"
  }
 },
 "nbformat": 4,
 "nbformat_minor": 2
}
