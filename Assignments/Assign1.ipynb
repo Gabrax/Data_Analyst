{
 "cells": [
  {
   "cell_type": "code",
   "execution_count": 43,
   "metadata": {},
   "outputs": [],
   "source": [
    "# cmath.exp służy do obliczania wykładniczej funkcji zespolonej.\n",
    "# cmath.phase służy do obliczania kąta fazowego (argumentu) liczby zespolonej."
   ]
  },
  {
   "cell_type": "markdown",
   "metadata": {},
   "source": [
    "$Zadanie 1$ \n",
    "\n",
    "$i^2$"
   ]
  },
  {
   "cell_type": "code",
   "execution_count": 16,
   "metadata": {},
   "outputs": [
    {
     "name": "stdout",
     "output_type": "stream",
     "text": [
      "Moduł: 1.0\n",
      "Kąt fazowy (w radianach): 3.14\n",
      "Kąt fazowy (w stopniach): 180.0\n"
     ]
    }
   ],
   "source": [
    "import cmath\n",
    "\n",
    "# Obliczanie i^2\n",
    "wynik = (0 + 1j) ** 2\n",
    "# Obliczanie modułu\n",
    "modul = abs(wynik)\n",
    "# Obliczanie kąta fazowego w radianach\n",
    "kat_fazowy = cmath.phase(wynik)\n",
    "zaokraglenie = round(kat_fazowy,2)\n",
    "# Konwertowanie kąta fazowego na stopnie\n",
    "kat_fazowy_stopnie = kat_fazowy * (180 / cmath.pi)\n",
    "print(\"Moduł:\", modul)\n",
    "print(\"Kąt fazowy (w radianach):\", zaokraglenie)\n",
    "print(\"Kąt fazowy (w stopniach):\", kat_fazowy_stopnie)"
   ]
  },
  {
   "cell_type": "markdown",
   "metadata": {},
   "source": [
    "$Zadanie 1$ \n",
    "\n",
    "$i^3$"
   ]
  },
  {
   "cell_type": "code",
   "execution_count": 17,
   "metadata": {},
   "outputs": [
    {
     "name": "stdout",
     "output_type": "stream",
     "text": [
      "Moduł: 1.0\n",
      "Kąt fazowy (w radianach): -1.57\n",
      "Kąt fazowy (w stopniach): -90.0\n"
     ]
    }
   ],
   "source": [
    "import cmath\n",
    "\n",
    "# Obliczanie i^3\n",
    "wynik = (0 + 1j) ** 3\n",
    "# Obliczanie modułu\n",
    "modul = abs(wynik)\n",
    "# Obliczanie kąta fazowego w radianach\n",
    "kat_fazowy = cmath.phase(wynik)\n",
    "zaokraglenie = round(kat_fazowy,2)\n",
    "# Konwertowanie kąta fazowego na stopnie\n",
    "kat_fazowy_stopnie = kat_fazowy * (180 / cmath.pi)\n",
    "print(\"Moduł:\", modul)\n",
    "print(\"Kąt fazowy (w radianach):\", zaokraglenie)\n",
    "print(\"Kąt fazowy (w stopniach):\", kat_fazowy_stopnie)"
   ]
  },
  {
   "cell_type": "markdown",
   "metadata": {},
   "source": [
    "$Zadanie 1$ \n",
    "\n",
    "$i^4$"
   ]
  },
  {
   "cell_type": "code",
   "execution_count": 18,
   "metadata": {},
   "outputs": [
    {
     "name": "stdout",
     "output_type": "stream",
     "text": [
      "Moduł: 1.0\n",
      "Kąt fazowy (w radianach): 0.0\n",
      "Kąt fazowy (w stopniach): 0.0\n"
     ]
    }
   ],
   "source": [
    "import cmath\n",
    "\n",
    "# Obliczanie i^4\n",
    "wynik = (0 + 1j) ** 4\n",
    "# Obliczanie modułu\n",
    "modul = abs(wynik)\n",
    "# Obliczanie kąta fazowego w radianach\n",
    "kat_fazowy = cmath.phase(wynik)\n",
    "zaokraglenie = round(kat_fazowy,2)\n",
    "# Konwertowanie kąta fazowego na stopnie\n",
    "kat_fazowy_stopnie = kat_fazowy * (180 / cmath.pi)\n",
    "print(\"Moduł:\", modul)\n",
    "print(\"Kąt fazowy (w radianach):\", zaokraglenie)\n",
    "print(\"Kąt fazowy (w stopniach):\", kat_fazowy_stopnie)"
   ]
  },
  {
   "cell_type": "markdown",
   "metadata": {},
   "source": [
    "$Zadanie 1$ \n",
    "\n",
    "$\\frac{i}{4}$"
   ]
  },
  {
   "cell_type": "code",
   "execution_count": 19,
   "metadata": {},
   "outputs": [
    {
     "name": "stdout",
     "output_type": "stream",
     "text": [
      "Moduł: 1.0\n",
      "Kąt fazowy (w radianach): -1.57\n",
      "Kąt fazowy (w stopniach): -90.0\n"
     ]
    }
   ],
   "source": [
    "import cmath\n",
    "\n",
    "# Obliczanie 1/i\n",
    "wynik = 1 / (0 + 1j)\n",
    "# Obliczanie modułu\n",
    "modul = abs(wynik)\n",
    "# Obliczanie kąta fazowego w radianach\n",
    "kat_fazowy = cmath.phase(wynik)\n",
    "zaokraglenie = round(kat_fazowy,2)\n",
    "# Konwertowanie kąta fazowego na stopnie\n",
    "kat_fazowy_stopnie = kat_fazowy * (180 / cmath.pi)\n",
    "print(\"Moduł:\", modul)\n",
    "print(\"Kąt fazowy (w radianach):\", zaokraglenie)\n",
    "print(\"Kąt fazowy (w stopniach):\", kat_fazowy_stopnie)"
   ]
  },
  {
   "cell_type": "markdown",
   "metadata": {},
   "source": [
    "$Zadanie 1$ \n",
    "\n",
    "$(1 + 2i)(2 - i)$"
   ]
  },
  {
   "cell_type": "code",
   "execution_count": 21,
   "metadata": {},
   "outputs": [
    {
     "name": "stdout",
     "output_type": "stream",
     "text": [
      "Moduł: 5.0\n",
      "Kąt fazowy (w radianach): 0.64\n",
      "Kąt fazowy (w stopniach): 36.87\n"
     ]
    }
   ],
   "source": [
    "import cmath\n",
    "\n",
    "# Obliczanie (1 + 2i)(2 - i)\n",
    "wynik = (1 + 2j) * (2 - 1j)\n",
    "# Obliczanie modułu\n",
    "modul = abs(wynik)\n",
    "# Obliczanie kąta fazowego w radianach\n",
    "kat_fazowy = cmath.phase(wynik)\n",
    "zaokraglenie = round(kat_fazowy,2)\n",
    "# Konwertowanie kąta fazowego na stopnie\n",
    "kat_fazowy_stopnie = kat_fazowy * (180 / cmath.pi)\n",
    "zaokraglenie_stopnie = round(kat_fazowy_stopnie,2)\n",
    "print(\"Moduł:\", modul)\n",
    "print(\"Kąt fazowy (w radianach):\", zaokraglenie)\n",
    "print(\"Kąt fazowy (w stopniach):\", zaokraglenie_stopnie)"
   ]
  },
  {
   "cell_type": "markdown",
   "metadata": {},
   "source": [
    "$Zadanie 1$ \n",
    "\n",
    "$(1 + i)(1 + 2i)(1 + 3i)$"
   ]
  },
  {
   "cell_type": "code",
   "execution_count": 22,
   "metadata": {},
   "outputs": [
    {
     "name": "stdout",
     "output_type": "stream",
     "text": [
      "Moduł: 10.0\n",
      "Kąt fazowy (w radianach): 3.14\n",
      "Kąt fazowy (w stopniach): 180.0\n"
     ]
    }
   ],
   "source": [
    "import cmath\n",
    "\n",
    "# Obliczanie (1 + i)(1 + 2i)(1 + 3i)\n",
    "wynik = (1 + 1j) * (1 + 2j) * (1 + 3j)\n",
    "# Obliczanie modułu\n",
    "modul = abs(wynik)\n",
    "# Obliczanie kąta fazowego w radianach\n",
    "kat_fazowy = cmath.phase(wynik)\n",
    "zaokraglenie = round(kat_fazowy,2)\n",
    "# Konwertowanie kąta fazowego na stopnie\n",
    "kat_fazowy_stopnie = kat_fazowy * (180 / cmath.pi)\n",
    "print(\"Moduł:\", modul)\n",
    "print(\"Kąt fazowy (w radianach):\", zaokraglenie)\n",
    "print(\"Kąt fazowy (w stopniach):\", kat_fazowy_stopnie)"
   ]
  },
  {
   "cell_type": "markdown",
   "metadata": {},
   "source": [
    "$Zadanie 1$ \n",
    "\n",
    "$\\left( \\frac{1}{2} \\sqrt{2} + \\frac{i}{2} \\sqrt{2} \\right)^2$"
   ]
  },
  {
   "cell_type": "code",
   "execution_count": 23,
   "metadata": {},
   "outputs": [
    {
     "name": "stdout",
     "output_type": "stream",
     "text": [
      "Moduł: 1.0000000000000002\n",
      "Kąt fazowy (w radianach): 1.57\n",
      "Kąt fazowy (w stopniach): 90.0\n"
     ]
    }
   ],
   "source": [
    "import cmath\n",
    "\n",
    "# Obliczanie (((1/2)*sqrt(2)) + ((i/2)*sqrt(2)))^2\n",
    "wynik = (((1/2)*cmath.sqrt(2)) + ((1j/2)*cmath.sqrt(2))) ** 2\n",
    "# Obliczanie modułu\n",
    "modul = abs(wynik)\n",
    "# Obliczanie kąta fazowego w radianach\n",
    "kat_fazowy = cmath.phase(wynik)\n",
    "zaokraglenie = round(kat_fazowy,2)\n",
    "# Konwertowanie kąta fazowego na stopnie\n",
    "kat_fazowy_stopnie = kat_fazowy * (180 / cmath.pi)\n",
    "print(\"Moduł:\", modul)\n",
    "print(\"Kąt fazowy (w radianach):\", zaokraglenie)\n",
    "print(\"Kąt fazowy (w stopniach):\", kat_fazowy_stopnie)"
   ]
  },
  {
   "cell_type": "markdown",
   "metadata": {},
   "source": [
    "$Zadanie 1$ \n",
    "\n",
    "$\\left( \\frac{1}{2} + \\frac{i}{2} \\sqrt{3} \\right)^3$"
   ]
  },
  {
   "cell_type": "code",
   "execution_count": 24,
   "metadata": {},
   "outputs": [
    {
     "name": "stdout",
     "output_type": "stream",
     "text": [
      "Moduł: 0.9999999999999998\n",
      "Kąt fazowy (w radianach): 3.14\n",
      "Kąt fazowy (w stopniach): 180.0\n"
     ]
    }
   ],
   "source": [
    "import cmath\n",
    "\n",
    "# Obliczanie (1/2 + ((i/2)*sqrt(3)))^3\n",
    "wynik = (1/2 + ((1j/2)*cmath.sqrt(3))) ** 3\n",
    "# Obliczanie modułu\n",
    "modul = abs(wynik)\n",
    "# Obliczanie kąta fazowego w radianach\n",
    "kat_fazowy = cmath.phase(wynik)\n",
    "zaokraglenie = round(kat_fazowy,2)\n",
    "# Konwertowanie kąta fazowego na stopnie\n",
    "kat_fazowy_stopnie = kat_fazowy * (180 / cmath.pi)\n",
    "print(\"Moduł:\", modul)\n",
    "print(\"Kąt fazowy (w radianach):\", zaokraglenie)\n",
    "print(\"Kąt fazowy (w stopniach):\", kat_fazowy_stopnie)"
   ]
  },
  {
   "cell_type": "markdown",
   "metadata": {},
   "source": [
    "$Zadanie 1$ \n",
    "\n",
    "$\\frac{1}{1 + i}$"
   ]
  },
  {
   "cell_type": "code",
   "execution_count": 25,
   "metadata": {},
   "outputs": [
    {
     "name": "stdout",
     "output_type": "stream",
     "text": [
      "Moduł: 0.7071067811865476\n",
      "Kąt fazowy (w radianach): -0.79\n",
      "Kąt fazowy (w stopniach): -45.0\n"
     ]
    }
   ],
   "source": [
    "import cmath\n",
    "\n",
    "# Obliczanie 1/(1 + i)\n",
    "wynik = 1 / (1 + 1j)\n",
    "# Obliczanie modułu\n",
    "modul = abs(wynik)\n",
    "# Obliczanie kąta fazowego w radianach\n",
    "kat_fazowy = cmath.phase(wynik)\n",
    "zaokraglenie = round(kat_fazowy,2)\n",
    "# Konwertowanie kąta fazowego na stopnie\n",
    "kat_fazowy_stopnie = kat_fazowy * (180 / cmath.pi)\n",
    "print(\"Moduł:\", modul)\n",
    "print(\"Kąt fazowy (w radianach):\", zaokraglenie)\n",
    "print(\"Kąt fazowy (w stopniach):\", kat_fazowy_stopnie)"
   ]
  },
  {
   "cell_type": "markdown",
   "metadata": {},
   "source": [
    "$Zadanie 1$ \n",
    "\n",
    "$\\frac{5}{2 - i}$"
   ]
  },
  {
   "cell_type": "code",
   "execution_count": 27,
   "metadata": {},
   "outputs": [
    {
     "name": "stdout",
     "output_type": "stream",
     "text": [
      "Moduł: 2.23606797749979\n",
      "Kąt fazowy (w radianach): 0.46\n",
      "Kąt fazowy (w stopniach): 26.57\n"
     ]
    }
   ],
   "source": [
    "import cmath\n",
    "\n",
    "# Obliczanie 5/(2-i)\n",
    "wynik = 5 / (2 - 1j)\n",
    "# Obliczanie modułu\n",
    "modul = abs(wynik)\n",
    "# Obliczanie kąta fazowego w radianach\n",
    "kat_fazowy = cmath.phase(wynik)\n",
    "zaokraglenie = round(kat_fazowy,2)\n",
    "# Konwertowanie kąta fazowego na stopnie\n",
    "kat_fazowy_stopnie = kat_fazowy * (180 / cmath.pi)\n",
    "zaokraglenie_stopnie = round(kat_fazowy_stopnie,2)\n",
    "print(\"Moduł:\", modul)\n",
    "print(\"Kąt fazowy (w radianach):\", zaokraglenie)\n",
    "print(\"Kąt fazowy (w stopniach):\", zaokraglenie_stopnie)"
   ]
  },
  {
   "cell_type": "markdown",
   "metadata": {},
   "source": [
    "$Zadanie 2$ \n",
    "\n",
    "$\\cos(4\\Theta), \\sin(4\\Theta), \\cos(5\\Theta), \\cos(6\\Theta)$\n",
    "\n",
    "$w \\text{ w zależności od } \\cos(\\Theta) \\text{ oraz } \\sin(4\\Theta) \\text{ stosując wzór de Moivre'a}$\n",
    "$\\\\$\n",
    "\n",
    "można skorzystać z następujących zależności:\n",
    "$\\\\$\n",
    "\n",
    "$dla \\cos(n\\Theta)$:\n",
    "$\\\\$\n",
    "\n",
    "$\\cos(n\\theta) = \\operatorname{Re}\\left((\\cos(\\theta) + i\\sin(\\theta))^n\\right)$\n",
    "$\\\\$\n",
    "\n",
    "$dla \\sin(n\\Theta)$:\n",
    "$\\\\$\n",
    "\n",
    "$\\sin(n\\theta) = \\operatorname{Im}\\left((\\cos(\\theta) + i\\sin(\\theta))^n\\right)$\n",
    "\n",
    "Poniżej wyrażenia dla każdej z tych funkcji w zależności od $\\cos(\\theta)$ i $\\sin(\\theta)$ przy użyciu wzoru de Moivre'a:\n",
    "\n",
    "$\\cos(4\\theta) = \\operatorname{Re}\\left((\\cos(\\theta) + i\\sin(\\theta))^4\\right)$\n",
    "$\\\\$\n",
    "$sin(4\\theta) = \\operatorname{Im}\\left((\\cos(\\theta) + i\\sin(\\theta))^4\\right)$\n",
    "$\\\\$\n",
    "$cos(5\\theta) = \\operatorname{Re}\\left((\\cos(\\theta) + i\\sin(\\theta))^5\\right)$\n",
    "$\\\\$\n",
    "$cos(6\\theta) = \\operatorname{Re}\\left((\\cos(\\theta) + i\\sin(\\theta))^6\\right)$"
   ]
  },
  {
   "cell_type": "code",
   "execution_count": 31,
   "metadata": {},
   "outputs": [
    {
     "name": "stdout",
     "output_type": "stream",
     "text": [
      "cos(4theta): (-1.0000000000000004+0j)\n",
      "sin(4theta): (-1.0000000000000004+0j)\n",
      "cos(5theta): (-0.7071067811865479-0.7071067811865479j)\n",
      "cos(6theta): (-0-1.0000000000000007j)\n"
     ]
    }
   ],
   "source": [
    "import cmath\n",
    "\n",
    "def cos_n_theta(n, cos_theta, sin_theta):\n",
    "    # Wzór de Moivre'a dla cos(n*theta)\n",
    "    return (cos_theta + 1j * sin_theta) ** n\n",
    "\n",
    "def sin_n_theta(n, cos_theta, sin_theta):\n",
    "    # Wzór de Moivre'a dla sin(n*theta)\n",
    "    return (cos_theta + 1j * sin_theta) ** n\n",
    "\n",
    "# Szacowanie wartości kąta theta\n",
    "theta = cmath.pi / 4  # Przykładowy kąt\n",
    "\n",
    "# Obliczanie cos(theta) i sin(theta)\n",
    "cos_theta = cmath.cos(theta)\n",
    "sin_theta = cmath.sin(theta)\n",
    "\n",
    "# Obliczanie cos(4*theta) i sin(4*theta)\n",
    "cos_4_theta = cos_n_theta(4, cos_theta, sin_theta)\n",
    "sin_4_theta = sin_n_theta(4, cos_theta, sin_theta)\n",
    "\n",
    "# Obliczanie cos(5*theta)\n",
    "cos_5_theta = cos_n_theta(5, cos_theta, sin_theta)\n",
    "\n",
    "# Obliczanie cos(6*theta)\n",
    "cos_6_theta = cos_n_theta(6, cos_theta, sin_theta)\n",
    "\n",
    "print(\"cos(4theta):\", cos_4_theta)\n",
    "print(\"sin(4theta):\", sin_4_theta)\n",
    "print(\"cos(5theta):\", cos_5_theta)\n",
    "print(\"cos(6theta):\", cos_6_theta)"
   ]
  },
  {
   "cell_type": "markdown",
   "metadata": {},
   "source": [
    "$Zadanie 3$ \n",
    "\n",
    "\n",
    "$e^{\\frac{\\pi i}{3}}$,\n",
    "    $e^{\\frac{\\pi i}{2}}$,\n",
    "    $\\sqrt{2} \\cdot e^{\\frac{3\\pi i}{4}}$,\n",
    "    $\\frac{1}{e^{\\frac{\\pi i}{4}}}$,\n",
    "    $\\frac{e^{-\\pi i}}{e^{\\frac{\\pi i}{4}}}$,\n",
    "    $e^{2009\\pi i}$\""
   ]
  },
  {
   "cell_type": "code",
   "execution_count": 55,
   "metadata": {},
   "outputs": [
    {
     "name": "stdout",
     "output_type": "stream",
     "text": [
      "(0.5000000000000001+0.8660254037844386j)\n",
      "(6.123233995736766e-17+1j)\n",
      "(-1+1.0000000000000002j)\n",
      "(0.7071067811865475-0.7071067811865475j)\n",
      "(-0.7071067811865477+0.7071067811865474j)\n",
      "(-1+3.987982301371248e-13j)\n"
     ]
    }
   ],
   "source": [
    "import cmath\n",
    "\n",
    "# Obliczanie e^((pi*i)/3)\n",
    "wynik_1 = cmath.exp(cmath.pi * 1j / 3)\n",
    "\n",
    "# Obliczanie e^((pi*i)/2)\n",
    "wynik_2 = cmath.exp(cmath.pi * 1j / 2)\n",
    "\n",
    "# Obliczanie sqrt(2) * e^((3*pi*i)/4)\n",
    "wynik_3 = cmath.sqrt(2) * cmath.exp(3 * cmath.pi * 1j / 4)\n",
    "\n",
    "# Obliczanie 1 / (e^((pi*i)/4))\n",
    "wynik_4 = 1 / cmath.exp(cmath.pi * 1j / 4)\n",
    "\n",
    "# Obliczanie (e^(-pi*i)) / (e^((pi*i)/4))\n",
    "wynik_5 = cmath.exp(-cmath.pi * 1j) / cmath.exp(cmath.pi * 1j / 4)\n",
    "\n",
    "# Obliczanie e^(2009*pi*i)\n",
    "wynik_6 = cmath.exp(2009 * cmath.pi * 1j)\n",
    "\n",
    "print(wynik_1)\n",
    "print(wynik_2)\n",
    "print(wynik_3)\n",
    "print(wynik_4)\n",
    "print(wynik_5)\n",
    "print(wynik_6)"
   ]
  },
  {
   "cell_type": "markdown",
   "metadata": {},
   "source": [
    "$Zadanie 4$ \n",
    "\n",
    "\n",
    "$\\text{ Udowodnić, że } \\cos(t) = \\frac{e^{it} + e^{-it}}{2}$,\n",
    "    $\\sin(t) = \\frac{e^{it} - e^{-it}}{2}$\n",
    "\n",
    "Korzystając z wzoru de Moivre'a:\n",
    "\n",
    "$z = e^{it}$ wtedy $z^{-1} = e^{-it}$\n",
    "\n",
    "Zgodnie ze wzorem de Moivre'a:\n",
    "\n",
    "$z^n = ((\\cos(t) + i\\sin(t)))^n = \\cos(nt) + i\\sin(nt)$\n",
    "\n",
    "Stąd:\n",
    "\n",
    "$z^1 = e^{it} = \\cos(t) + i\\sin(t)$\n",
    "\n",
    "$z^{-1} = e^{-it} = \\cos(-t) + i\\sin(-t) = \\cos(t) - i\\sin(t)$\n",
    "\n",
    "Dodać te wyrażenia:\n",
    "\n",
    "$z + z^{-1} = (\\cos(t) + i\\sin(t) + (\\cos(t) - i\\sin(t)))$\n",
    "\n",
    "$z + z^{-1} = \\cos(t) + i\\sin(t) + \\cos(t) - i\\sin(t)$\n",
    "\n",
    "$z + z^{-1} = 2\\cos(t)$\n",
    "\n",
    "Podzielić obie strony przez 2, aby uzyskać:\n",
    "\n",
    "$\\frac{{z + z^{-1}}}{2} = \\cos(t)$\n",
    "\n",
    "Podobnie, odjąć te wyrażenia dla sin:\n",
    "\n",
    "$z - z^{-1} = (\\cos(t) + i\\sin(t) - (\\cos(t) - i\\sin(t)))$\n",
    "\n",
    "$z - z^{-1} = \\cos(t) + i\\sin(t) - \\cos(t) + i\\sin(t)$\n",
    "\n",
    "$z - z^{-1} = 2i\\sin(t)$\n",
    "\n",
    "Podzielić obie strony przez 2i, aby uzyskać:\n",
    "    \n",
    "$\\frac{{z - z^{-1}}}{2i} = \\sin(t)$\n",
    "\n",
    "Używając wzoru de Moivre'a, udowodnione zostały tożsamości:\n",
    "\n",
    "$\\frac{{z + z^{-1}}}{2} = \\cos(t)$\n",
    "\n",
    "$\\frac{{z - z^{-1}}}{2i} = \\sin(t)$\n",
    "\n"
   ]
  },
  {
   "cell_type": "code",
   "execution_count": 56,
   "metadata": {},
   "outputs": [
    {
     "name": "stdout",
     "output_type": "stream",
     "text": [
      "cos(t) obliczone za pomocą wzoru de Moivre'a: (0.5000000000000001+0j)\n",
      "cos(t) obliczone za pomocą cmath.cos: (0.5000000000000001-0j)\n",
      "\n",
      "sin(t) obliczone za pomocą wzoru de Moivre'a: (0.8660254037844386+0j)\n",
      "sin(t) obliczone za pomocą cmath.sin: (0.8660254037844386+0j)\n"
     ]
    }
   ],
   "source": [
    "import cmath\n",
    "\n",
    "# Funkcja obliczająca cos(t) na podstawie wzoru de Moivre'a\n",
    "def cos_de_moivre(t):\n",
    "    return (cmath.exp(1j * t) + cmath.exp(-1j * t)) / 2\n",
    "\n",
    "# Funkcja obliczająca sin(t) na podstawie wzoru de Moivre'a\n",
    "def sin_de_moivre(t):\n",
    "    return (cmath.exp(1j * t) - cmath.exp(-1j * t)) / (2j)\n",
    "\n",
    "# Dla przykładowego kąta t\n",
    "t = cmath.pi / 3\n",
    "\n",
    "# Obliczanie wartości cos(t) i sin(t) za pomocą wzoru de Moivre'a\n",
    "cos_t_de_moivre = cos_de_moivre(t)\n",
    "sin_t_de_moivre = sin_de_moivre(t)\n",
    "\n",
    "# Obliczanie wartości cos(t) i sin(t) za pomocą funkcji z modułu cmath\n",
    "cos_t_cmath = cmath.cos(t)\n",
    "sin_t_cmath = cmath.sin(t)\n",
    "\n",
    "# Porównanie wartości\n",
    "print(\"cos(t) obliczone za pomocą wzoru de Moivre'a:\", cos_t_de_moivre)\n",
    "print(\"cos(t) obliczone za pomocą cmath.cos:\", cos_t_cmath)\n",
    "\n",
    "print(\"\\nsin(t) obliczone za pomocą wzoru de Moivre'a:\", sin_t_de_moivre)\n",
    "print(\"sin(t) obliczone za pomocą cmath.sin:\", sin_t_cmath)"
   ]
  },
  {
   "cell_type": "markdown",
   "metadata": {},
   "source": [
    "$Zadanie 5$ \n",
    "\n",
    "\n",
    "Znajdź $A$ oraz $\\Phi$ takie, że\n",
    "$A\\cos(t - \\Phi) = 12\\cos(t - \\frac{\\pi}{6}) + 12\\sin(t - \\frac{\\pi}{3})$\n",
    "\n",
    "Można wyrazić $\\Phi$ jako różnicę argumentów funkcji trygonometrycznych\n",
    "\n",
    "$\\Phi = \\operatorname{arctan2}\\left(-12\\sin\\left(\\frac{\\pi}{6}\\right) + 12\\cos\\left(\\frac{\\pi}{3}\\right),\\, 12\\cos\\left(\\frac{\\pi}{6}\\right) + 12\\sin\\left(\\frac{\\pi}{3}\\right)\\right)$\n",
    "\n",
    "Następnie można obliczyć A korzystając z wzoru:\n",
    "\n",
    "$A = \\sqrt{\\left(12\\cos\\left(\\frac{\\pi}{6}\\right) + 12\\sin\\left(\\frac{\\pi}{3}\\right)\\right)^2 + \\left(-12\\sin\\left(\\frac{\\pi}{6}\\right) + 12\\cos\\left(\\frac{\\pi}{3}\\right)\\right)^2}$\n",
    "\n"
   ]
  },
  {
   "cell_type": "code",
   "execution_count": 57,
   "metadata": {},
   "outputs": [
    {
     "name": "stdout",
     "output_type": "stream",
     "text": [
      "A = 20.784609690826528\n",
      "Phi = 1.2819751242557092e-16\n",
      "Równość sprawdzona: True\n"
     ]
    }
   ],
   "source": [
    "import numpy as np\n",
    "\n",
    "# Wartości znane\n",
    "cos_pi_6 = np.cos(np.pi/6)\n",
    "sin_pi_6 = np.sin(np.pi/6)\n",
    "sin_pi_3 = np.sin(np.pi/3)\n",
    "cos_pi_3 = np.cos(np.pi/3)\n",
    "\n",
    "# Obliczenia dla Phi\n",
    "Phi = np.arctan2(-12 * sin_pi_6 + 12 * cos_pi_3, 12 * cos_pi_6 + 12 * sin_pi_3)\n",
    "\n",
    "# Obliczenia dla A\n",
    "A = np.sqrt((12 * cos_pi_6 + 12 * sin_pi_3)**2 + (-12 * sin_pi_6 + 12 * cos_pi_3)**2)\n",
    "\n",
    "# Sprawdzenie równości\n",
    "# np.isclose służy do porównywania dwóch tablic numerycznych (np. wartości numerycznych) z uwzględnieniem pewnego marginesu tolerancji.\n",
    "czy_rowne = np.isclose(A * np.cos(Phi), 12 * cos_pi_6 + 12 * sin_pi_3) and np.isclose(A * np.sin(Phi), -12 * sin_pi_6 + 12 * cos_pi_3)\n",
    "\n",
    "print(\"A =\", A)\n",
    "print(\"Phi =\", Phi)\n",
    "print(\"Równość sprawdzona:\", czy_rowne)"
   ]
  },
  {
   "cell_type": "markdown",
   "metadata": {},
   "source": [
    "$Zadanie 6$ \n",
    "\n",
    "Znaleźć wszystkie rzeczywiste i zespolone pierwiastki równania $z^3 + 8 = 0$\n",
    "\n",
    "Aby znaleźć wszystkie rzeczywiste i zespolone pierwiastki równania $z^3 + 8 = 0$, można wykorzystać fakt, że liczba zespolona z jest pierwiastkiem tego równania, jeśli i tylko jeśli $z^3 = -8$\n",
    "\n",
    "Zauważmy, że $z^3 = -8$ można zapisać jako $z^3 = 8 * (-1).$\n",
    "\n",
    "8 można zapisać w postaci trygonometrycznej jako $8 = 8(cos(0) + isin(0))$\n",
    "\n",
    "ponieważ 0 stopni to kąt, który wskazuje na oś rzeczywistą\n",
    "\n",
    "Z formuły de Moivre'a, można napisać ${\\sqrt[3]{8}} \\cdot \\left[ \\cos\\left(\\frac{2\\pi k}{3}\\right) + i\\sin\\left(\\frac{2\\pi k}{3}\\right) \\right]$ gdzie k = 0, 1, 2\n",
    "\n",
    "Obliczanie pierwiastka trzeciego stopnia z 8:\n",
    "$\\sqrt[3]{8} = 2$\n",
    "\n",
    "Pierwiastki z równania $z^3 + 8 = 0$ to:\n",
    "\n",
    "gdy k = 0:\n",
    "\n",
    "$z1 = 2\\left[ \\cos\\left(\\frac{2\\pi*0}{3}\\right) + i\\sin\\left(\\frac{2\\pi*0}{3}\\right) \\right]$ = $2\\left[ \\cos(0) + i\\sin(0) \\right]$ = $2$\n",
    "\n",
    "gdy k = 1:\n",
    "\n",
    "$z2 = 2\\left[ \\cos\\left(\\frac{2\\pi*1}{3}\\right) + i\\sin\\left(\\frac{2\\pi*1}{3}\\right) \\right]$ = $2\\left[ \\cos\\left(\\frac{2\\pi}{3}\\right) + i\\sin\\left(\\frac{2\\pi}{3}\\right) \\right]$\n",
    "\n",
    "gdy k = 2:\n",
    "\n",
    "$z3 = 2\\left[ \\cos\\left(\\frac{2\\pi*2}{3}\\right) + i\\sin\\left(\\frac{2\\pi*2}{3}\\right) \\right]$ = $2\\left[ \\cos\\left(\\frac{4\\pi}{3}\\right) + i\\sin\\left(\\frac{4\\pi}{3}\\right) \\right]$\n",
    "\n",
    "Obliczanie wartości sin i cos:\n",
    "\n",
    "$\\cos\\left(\\frac{2\\pi}{3}\\right) = -\\frac{1}{2}$\n",
    "\n",
    "$\\sin\\left(\\frac{2\\pi}{3}\\right) = \\frac{\\sqrt{3}}{2}$\n",
    "\n",
    "$\\cos\\left(\\frac{4\\pi}{3}\\right) = -\\frac{1}{2}$\n",
    "\n",
    "$\\sin\\left(\\frac{4\\pi}{3}\\right) = -\\frac{\\sqrt{3}}{2}$\n",
    "\n",
    "Pierwiastki to:\n",
    "\n",
    "$z1 = 2$\n",
    "\n",
    "$z2 = 2\\left(-\\frac{1}{2} + i\\frac{\\sqrt{3}}{2}\\right) = -1 + i\\frac{\\sqrt{3}}{2}$ \n",
    "\n",
    "$z3 = 2\\left(-\\frac{1}{2} - i\\frac{\\sqrt{3}}{2}\\right) = -1 - i\\frac{\\sqrt{3}}{2}$ \n",
    "\n",
    "\n",
    "\n",
    "\n"
   ]
  },
  {
   "cell_type": "code",
   "execution_count": 58,
   "metadata": {},
   "outputs": [
    {
     "name": "stdout",
     "output_type": "stream",
     "text": [
      "Pierwiastki równania z^3 + 8 = 0:\n",
      "(-2+0j)\n",
      "(0.9999999999999996+1.7320508075688765j)\n",
      "(0.9999999999999996-1.7320508075688765j)\n"
     ]
    }
   ],
   "source": [
    "import numpy as np # Umożliwia operacje na liczbach zespolonych\n",
    "\n",
    "# Współczynniki równania\n",
    "wspolczynniki = [1, 0, 0, 8]  # Współczynniki zgodnie z kolejnością potęg\n",
    "\n",
    "#Pierwszy współczynnik odpowiada potędze trzeciej (stopień równania).\n",
    "#Drugi współczynnik jest zerowy, \n",
    "#co oznacza brak potęgi drugiej w równaniu.\n",
    "#Trzeci współczynnik również jest zerowy, \n",
    "#co oznacza brak potęgi pierwszej w równaniu.\n",
    "#Czwarty współczynnik wynosi 8, \n",
    "#co odpowiada wyrazowi wolnemu w równaniu.\n",
    "\n",
    "# Znajdź pierwiastki równania\n",
    "# np.roots służy do obliczania wszystkich pierwiastków wielomianu\n",
    "roots = np.roots(wspolczynniki)\n",
    "\n",
    "# Pokazanie pierwiastków\n",
    "print(\"Pierwiastki równania z^3 + 8 = 0:\")\n",
    "for root in roots:\n",
    "    print(root)"
   ]
  }
 ],
 "metadata": {
  "kernelspec": {
   "display_name": "Python 3",
   "language": "python",
   "name": "python3"
  },
  "language_info": {
   "codemirror_mode": {
    "name": "ipython",
    "version": 3
   },
   "file_extension": ".py",
   "mimetype": "text/x-python",
   "name": "python",
   "nbconvert_exporter": "python",
   "pygments_lexer": "ipython3",
   "version": "3.11.9"
  }
 },
 "nbformat": 4,
 "nbformat_minor": 2
}
